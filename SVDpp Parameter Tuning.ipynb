{
 "cells": [
  {
   "cell_type": "code",
   "execution_count": 1,
   "metadata": {
    "collapsed": true
   },
   "outputs": [],
   "source": [
    "import pandas as pd\n",
    "import numpy as np\n",
    "from surprise import Reader, Dataset, evaluate, dump\n",
    "from surprise import SVD, SVDpp, KNNBaseline, KNNWithMeans, CoClustering, GridSearch"
   ]
  },
  {
   "cell_type": "code",
   "execution_count": 2,
   "metadata": {
    "collapsed": true
   },
   "outputs": [],
   "source": [
    "import pandas as pd\n",
    "import numpy as np\n",
    "import math\n",
    "import re\n",
    "from scipy.sparse import csr_matrix\n",
    "import matplotlib.pyplot as plt\n",
    "import seaborn as sns\n",
    "from surprise import Reader, Dataset, SVD, evaluate\n",
    "sns.set_style(\"darkgrid\")"
   ]
  },
  {
   "cell_type": "code",
   "execution_count": 4,
   "metadata": {},
   "outputs": [],
   "source": [
    "df1 = pd.read_csv('combined_data_1.txt', header = None, names = ['Cust_Id', 'Rating'])\n",
    "df2 = pd.read_csv('combined_data_2.txt', header = None, names = ['Cust_Id', 'Rating'])\n",
    "df3 = pd.read_csv('combined_data_3.txt', header = None, names = ['Cust_Id', 'Rating'])\n",
    "df4 = pd.read_csv('combined_data_4.txt', header = None, names = ['Cust_Id', 'Rating'])"
   ]
  },
  {
   "cell_type": "code",
   "execution_count": 5,
   "metadata": {
    "collapsed": true
   },
   "outputs": [],
   "source": [
    "def add_movieID(df, movie_id):\n",
    "    df_nan = pd.DataFrame(pd.isnull(df.Rating))\n",
    "    df_nan = df_nan[df_nan['Rating'] == True]\n",
    "    df_nan = df_nan.reset_index()\n",
    "\n",
    "    movie_np = []\n",
    "\n",
    "    for i,j in zip(df_nan['index'][1:],df_nan['index'][:-1]):\n",
    "        # numpy approach\n",
    "        temp = np.full((1,i-j-1), movie_id)\n",
    "        movie_np = np.append(movie_np, temp)\n",
    "        movie_id += 1\n",
    "        print(movie_id)\n",
    "\n",
    "    # Account for last record and corresponding length\n",
    "    # numpy approach\n",
    "    last_record = np.full((1,len(df) - df_nan.iloc[-1, 0] - 1),movie_id)\n",
    "    movie_np = np.append(movie_np, last_record)\n",
    "\n",
    "    print('Movie numpy: {}'.format(movie_np))\n",
    "    print('Length: {}'.format(len(movie_np)))\n",
    "    df = df[pd.notnull(df['Rating'])]\n",
    "\n",
    "    df['Movie_Id'] = movie_np.astype(int)\n",
    "    df['Cust_Id'] = df['Cust_Id'].astype(int)\n",
    "    return df, movie_id"
   ]
  },
  {
   "cell_type": "code",
   "execution_count": 26,
   "metadata": {},
   "outputs": [],
   "source": [
    "data = pd.DataFrame([])\n",
    "tmp, movie_id = add_movieID(df1,1)\n",
    "data = data.append(tmp)\n",
    "tmp, movie_id = add_movieID(df2,movie_id)\n",
    "data = data.append(tmp)\n",
    "tmp, movie_id = add_movieID(df3,movie_id)\n",
    "data = data.append(tmp)\n",
    "tmp, movie_id = add_movieID(df4,movie_id)\n",
    "data = data.append(tmp)"
   ]
  },
  {
   "cell_type": "code",
   "execution_count": 8,
   "metadata": {},
   "outputs": [],
   "source": [
    "svdpp = SVDpp()"
   ]
  },
  {
   "cell_type": "code",
   "execution_count": 9,
   "metadata": {
    "collapsed": true
   },
   "outputs": [],
   "source": [
    "df = data"
   ]
  },
  {
   "cell_type": "code",
   "execution_count": 18,
   "metadata": {
    "collapsed": true
   },
   "outputs": [],
   "source": [
    "reader = Reader()\n",
    "\n",
    "# get just top 100K rows for faster run time\n",
    "data = Dataset.load_from_df(df[['Cust_Id', 'Movie_Id', 'Rating']].sample(frac=0.02, replace=True), reader)\n",
    "data.split(n_folds=3)"
   ]
  },
  {
   "cell_type": "code",
   "execution_count": 19,
   "metadata": {
    "collapsed": true
   },
   "outputs": [],
   "source": [
    "trainset = data.build_full_trainset()"
   ]
  },
  {
   "cell_type": "code",
   "execution_count": 25,
   "metadata": {},
   "outputs": [],
   "source": [
    "probe = pd.read_csv(\"probe.txt\",  names = ['Cust_Id'])\n",
    "probe_movie = pd.DataFrame([])\n",
    "Cust_Id = []\n",
    "movie_id = []\n",
    "currentMovie =0\n",
    "index = 0\n",
    "\n",
    "elem = 1\n",
    "for i in probe.Cust_Id:\n",
    "    if i[len(i) -1] == \":\":\n",
    "        elem = int(i[0:len(i)-1])\n",
    "        print(elem)\n",
    "        continue\n",
    "    Cust_Id.append(int(i))\n",
    "    movie_id.append(elem)\n",
    "    #print(index,row)\n",
    "probe_movie['Cust_Id'] = Cust_Id\n",
    "probe_movie['Movie_Id'] = movie_id"
   ]
  },
  {
   "cell_type": "code",
   "execution_count": 13,
   "metadata": {
    "collapsed": true
   },
   "outputs": [],
   "source": [
    "merged_probe_set = pd.merge(probe_movie,df,on=['Cust_Id','Movie_Id'])"
   ]
  },
  {
   "cell_type": "markdown",
   "metadata": {},
   "source": [
    "# #Parameter Tuning Code for epoch value = 5"
   ]
  },
  {
   "cell_type": "code",
   "execution_count": 14,
   "metadata": {
    "collapsed": true
   },
   "outputs": [],
   "source": [
    "param_grid = {'n_epochs': [5, 10], 'lr_all': [0.002, 0.005],\n",
    "              'reg_all': [0.4, 0.6]}"
   ]
  },
  {
   "cell_type": "code",
   "execution_count": 20,
   "metadata": {},
   "outputs": [
    {
     "name": "stdout",
     "output_type": "stream",
     "text": [
      "[{'n_epochs': 5, 'lr_all': 0.002, 'reg_all': 0.4}, {'n_epochs': 5, 'lr_all': 0.002, 'reg_all': 0.6}, {'n_epochs': 5, 'lr_all': 0.005, 'reg_all': 0.4}, {'n_epochs': 5, 'lr_all': 0.005, 'reg_all': 0.6}, {'n_epochs': 10, 'lr_all': 0.002, 'reg_all': 0.4}, {'n_epochs': 10, 'lr_all': 0.002, 'reg_all': 0.6}, {'n_epochs': 10, 'lr_all': 0.005, 'reg_all': 0.4}, {'n_epochs': 10, 'lr_all': 0.005, 'reg_all': 0.6}]\n"
     ]
    }
   ],
   "source": [
    "grid_search = GridSearch(SVDpp, param_grid, measures=['RMSE', 'MAE'])"
   ]
  },
  {
   "cell_type": "code",
   "execution_count": 22,
   "metadata": {},
   "outputs": [
    {
     "name": "stdout",
     "output_type": "stream",
     "text": [
      "------------\n",
      "Parameters combination 1 of 8\n",
      "params:  {'n_epochs': 5, 'lr_all': 0.002, 'reg_all': 0.4}\n",
      "------------\n",
      "Mean RMSE: 1.0136\n",
      "Mean MAE : 0.8251\n",
      "------------\n",
      "------------\n",
      "Parameters combination 2 of 8\n",
      "params:  {'n_epochs': 5, 'lr_all': 0.002, 'reg_all': 0.6}\n",
      "------------\n",
      "Mean RMSE: 1.0171\n",
      "Mean MAE : 0.8313\n",
      "------------\n",
      "------------\n",
      "Parameters combination 3 of 8\n",
      "params:  {'n_epochs': 5, 'lr_all': 0.005, 'reg_all': 0.4}\n",
      "------------\n",
      "Mean RMSE: 0.9979\n",
      "Mean MAE : 0.8079\n",
      "------------\n",
      "------------\n",
      "Parameters combination 4 of 8\n",
      "params:  {'n_epochs': 5, 'lr_all': 0.005, 'reg_all': 0.6}\n",
      "------------\n",
      "Mean RMSE: 1.0023\n",
      "Mean MAE : 0.8152\n",
      "------------\n",
      "------------\n",
      "Parameters combination 5 of 8\n",
      "params:  {'n_epochs': 10, 'lr_all': 0.002, 'reg_all': 0.4}\n",
      "------------\n",
      "Mean RMSE: 1.0016\n",
      "Mean MAE : 0.8129\n",
      "------------\n",
      "------------\n",
      "Parameters combination 6 of 8\n",
      "params:  {'n_epochs': 10, 'lr_all': 0.002, 'reg_all': 0.6}\n",
      "------------\n",
      "Mean RMSE: 1.0058\n",
      "Mean MAE : 0.8199\n",
      "------------\n",
      "------------\n",
      "Parameters combination 7 of 8\n",
      "params:  {'n_epochs': 10, 'lr_all': 0.005, 'reg_all': 0.4}\n",
      "------------\n",
      "Mean RMSE: 0.9861\n",
      "Mean MAE : 0.7952\n",
      "------------\n",
      "------------\n",
      "Parameters combination 8 of 8\n",
      "params:  {'n_epochs': 10, 'lr_all': 0.005, 'reg_all': 0.6}\n",
      "------------\n",
      "Mean RMSE: 0.9913\n",
      "Mean MAE : 0.8031\n",
      "------------\n"
     ]
    }
   ],
   "source": [
    "grid_search.evaluate(data)"
   ]
  },
  {
   "cell_type": "code",
   "execution_count": 24,
   "metadata": {},
   "outputs": [
    {
     "name": "stdout",
     "output_type": "stream",
     "text": [
      "defaultdict(<class 'list'>, {'rmse': {'n_epochs': 10, 'lr_all': 0.005, 'reg_all': 0.4}, 'mae': {'n_epochs': 10, 'lr_all': 0.005, 'reg_all': 0.4}})\n"
     ]
    }
   ],
   "source": [
    "print(grid_search.evaluate)"
   ]
  },
  {
   "cell_type": "code",
   "execution_count": 23,
   "metadata": {},
   "outputs": [],
   "source": [
    "svdpp.train(trainset)"
   ]
  },
  {
   "cell_type": "code",
   "execution_count": 24,
   "metadata": {},
   "outputs": [
    {
     "name": "stdout",
     "output_type": "stream",
     "text": [
      "1.0972537568 1.04749880993\n"
     ]
    }
   ],
   "source": [
    "cust_id = [];\n",
    "index =1;\n",
    "mae_sum = 0;\n",
    "mse_sum = 0;\n",
    "n = len(merged_probe_set)\n",
    "for index,row in merged_probe_set.iterrows():\n",
    "    user = row['Cust_Id']\n",
    "    currentMovie = row['Movie_Id']\n",
    "    pred = svdpp.predict(user, currentMovie, row['Rating'], verbose=False)\n",
    "    diff = row['Rating']-pred.est\n",
    "    mse_sum += diff*diff\n",
    "    #print(diff)\n",
    "mse = mse_sum/n\n",
    "rmse = (mse_sum/n)**0.5\n",
    "    \n",
    "    # TODO: Try using model.test\n",
    "    #pred = model.test(testData['Cust_Id'])\n",
    "    #rmse(pred)\n",
    "    #dump.dump('./dump_SVD', pred, model)\n",
    "    \n",
    "print(mse, rmse)"
   ]
  }
 ],
 "metadata": {
  "kernelspec": {
   "display_name": "Python 3",
   "language": "python",
   "name": "python3"
  },
  "language_info": {
   "codemirror_mode": {
    "name": "ipython",
    "version": 3
   },
   "file_extension": ".py",
   "mimetype": "text/x-python",
   "name": "python",
   "nbconvert_exporter": "python",
   "pygments_lexer": "ipython3",
   "version": "3.6.3"
  }
 },
 "nbformat": 4,
 "nbformat_minor": 2
}
